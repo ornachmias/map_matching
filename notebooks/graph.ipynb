{
 "cells": [
  {
   "metadata": {},
   "cell_type": "code",
   "source": [
    "import matplotlib.pyplot as plt\n",
    "import contextily as cx\n",
    "from geopandas import GeoDataFrame\n",
    "\n",
    "import config\n",
    "import graph_provider"
   ],
   "id": "f628f2c2967cc448",
   "outputs": [],
   "execution_count": null
  },
  {
   "metadata": {},
   "cell_type": "code",
   "source": "graph = graph_provider.get_graph(config.data_dir)",
   "id": "initial_id",
   "outputs": [],
   "execution_count": null
  },
  {
   "metadata": {},
   "cell_type": "code",
   "source": [
    "gdf_edges = GeoDataFrame(geometry=graph.es['geometry'], crs=config.default_crs)\n",
    "gdf_vertices = GeoDataFrame(geometry=graph.vs['geometry'], crs=config.default_crs)\n",
    "\n",
    "fig, axes = plt.subplots(nrows=1, ncols=2, figsize=(16,8))\n",
    "gdf_edges.plot(ax=axes[0], linewidth=2, color='blue', alpha=0.5, label='Edges')\n",
    "gdf_vertices.plot(ax=axes[1], markersize=2, color='red', label='Vertices')\n",
    "cx.add_basemap(axes[0], crs=gdf_edges.crs)\n",
    "cx.add_basemap(axes[1], crs=gdf_vertices.crs)\n",
    "axes[0].set_title('Graph Edges')\n",
    "axes[1].set_title('Graph Vertices')\n",
    "axes[0].set_axis_off()\n",
    "axes[1].set_axis_off()\n",
    "plt.show()"
   ],
   "id": "ec4ee6637d24ea0a",
   "outputs": [],
   "execution_count": null
  },
  {
   "metadata": {},
   "cell_type": "code",
   "source": [
    "gdf_max_speed = GeoDataFrame(data={'max_speed': graph.es['maxspeed']}, geometry=graph.es['geometry'], crs=config.default_crs)\n",
    "\n",
    "fig, ax = plt.subplots(figsize=(16,8))\n",
    "gdf_max_speed.plot(ax=ax, linewidth=1, column='max_speed', cmap='YlOrBr', legend=True)\n",
    "cx.add_basemap(ax, crs=gdf_max_speed.crs)\n",
    "plt.title('Graph Edges with Max Speed')\n",
    "ax.set_axis_off()\n",
    "plt.show()"
   ],
   "id": "bc05bb70c7767fe0",
   "outputs": [],
   "execution_count": null
  },
  {
   "metadata": {},
   "cell_type": "code",
   "source": "",
   "id": "fcd3d04c14a2cd60",
   "outputs": [],
   "execution_count": null
  }
 ],
 "metadata": {
  "kernelspec": {
   "display_name": "Python 3",
   "language": "python",
   "name": "python3"
  },
  "language_info": {
   "codemirror_mode": {
    "name": "ipython",
    "version": 2
   },
   "file_extension": ".py",
   "mimetype": "text/x-python",
   "name": "python",
   "nbconvert_exporter": "python",
   "pygments_lexer": "ipython2",
   "version": "2.7.6"
  }
 },
 "nbformat": 4,
 "nbformat_minor": 5
}
