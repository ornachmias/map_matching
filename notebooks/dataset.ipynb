{
 "cells": [
  {
   "cell_type": "code",
   "id": "initial_id",
   "metadata": {
    "collapsed": true
   },
   "source": [
    "from shapely import Point\n",
    "import matplotlib.pyplot as plt\n",
    "import contextily as cx\n",
    "from geopandas import GeoDataFrame\n",
    "\n",
    "import config\n",
    "import graph_provider\n",
    "import dataset"
   ],
   "outputs": [],
   "execution_count": null
  },
  {
   "metadata": {},
   "cell_type": "code",
   "source": "graph = graph_provider.get_graph()",
   "id": "af0a5c164dd5bbe4",
   "outputs": [],
   "execution_count": null
  },
  {
   "metadata": {},
   "cell_type": "code",
   "source": [
    "fig, ax = plt.subplots(figsize=(16,8))\n",
    "for i in range(10):\n",
    "    start, end = dataset.get_random_vertices_pair(graph)\n",
    "    route = graph.get_shortest_path(start, end, output='epath')\n",
    "    geometries = graph.es[route]['geometry']\n",
    "    color = plt.colormaps.get_cmap('Accent')\n",
    "    GeoDataFrame(geometry=geometries, crs=config.default_crs).plot(ax=ax, linewidth=2, color=color(i), alpha=0.8)\n",
    "\n",
    "cx.add_basemap(ax, crs=config.default_crs)\n",
    "plt.title('Random Routes on Graph')\n",
    "ax.set_axis_off()\n",
    "plt.show()"
   ],
   "id": "9a087352ce79629a",
   "outputs": [],
   "execution_count": null
  },
  {
   "metadata": {},
   "cell_type": "code",
   "source": [
    "plt.figure(figsize=(8, 4))\n",
    "accuracies = [dataset.get_random_accuracy() for _ in range(10000)]\n",
    "plt.hist(accuracies, bins=100)\n",
    "plt.title('Random Accuracy Distribution')\n",
    "plt.xlabel('Accuracy')\n",
    "plt.ylabel('Frequency')\n",
    "plt.show()"
   ],
   "id": "3c6005dd8b883b45",
   "outputs": [],
   "execution_count": null
  },
  {
   "metadata": {},
   "cell_type": "code",
   "source": [
    "noise_long, noise_lat = [], []\n",
    "for accuracy in accuracies:\n",
    "    noise = dataset.get_coordinates_noise(accuracy)\n",
    "    noise_long.append(noise[0])\n",
    "    noise_lat.append(noise[1])\n",
    "plt.figure(figsize=(8, 4))\n",
    "plt.hist(noise_long, bins=100, alpha=0.5, label='Longitude Noise')\n",
    "plt.hist(noise_lat, bins=100, alpha=0.5, label='Latitude Noise')\n",
    "plt.title('Random Noise Distribution')\n",
    "plt.xlabel('Noise')\n",
    "plt.ylabel('Frequency')\n",
    "plt.legend()\n",
    "plt.show()\n"
   ],
   "id": "93e26e50f053affd",
   "outputs": [],
   "execution_count": null
  },
  {
   "metadata": {},
   "cell_type": "code",
   "source": [
    "colors = ['red', 'green', 'blue', 'orange']\n",
    "plt.figure(figsize=(8, 4))\n",
    "for i, (low, high) in enumerate(config.accuracy_ranges):\n",
    "    noise_long, noise_lat = [], []\n",
    "    for accuracy in accuracies:\n",
    "        if low <= accuracy < high:\n",
    "            noise = dataset.get_coordinates_noise(accuracy)\n",
    "            noise_long.append(noise[0])\n",
    "            noise_lat.append(noise[1])\n",
    "    plt.hist(noise_long, bins=100, alpha=0.3, color=colors[i], label=f'Accuracy {low}-{high}')\n",
    "    plt.hist(noise_lat, bins=100, alpha=0.3, color=colors[i])\n",
    "    plt.xlim(-100, 100)\n",
    "plt.title('Noise Distribution by Accuracy Range')\n",
    "plt.xlabel('Noise')\n",
    "plt.ylabel('Frequency')\n",
    "plt.legend()\n",
    "plt.show()"
   ],
   "id": "a38514fab0e9ad82",
   "outputs": [],
   "execution_count": null
  },
  {
   "metadata": {},
   "cell_type": "code",
   "source": [
    "speed_options = [1.0, 1.5, 2.5]\n",
    "bearing = 0.0\n",
    "plt.figure(figsize=(8, 4))\n",
    "# Generate plot for dataset.generate_noisy_bearing(bearing)\n",
    "for speed in speed_options:\n",
    "    bearing_delta = [dataset.generate_noisy_bearing(bearing, speed) for _ in range(10000)]\n",
    "    plt.hist(bearing_delta, bins=100, alpha=0.4, label=f'Speed {speed}')\n",
    "plt.title('Bearing Delta Noise Distribution by Speed')\n",
    "plt.xlabel('Bearing Delta')\n",
    "plt.ylabel('Frequency')\n",
    "plt.legend()\n",
    "plt.show()\n",
    "\n",
    "\n"
   ],
   "id": "bf1714c4ae76ee36",
   "outputs": [],
   "execution_count": null
  },
  {
   "metadata": {},
   "cell_type": "code",
   "source": [
    "samples = dataset.get_samples(graph, n_routes=1)\n",
    "samples = samples[0]\n",
    "actual_cords = [(s['actual']['longitude'], s['actual']['latitude']) for s in samples]\n",
    "actual_geo = [Point(p[0], p[1]) for p in actual_cords]\n",
    "actual_geo = GeoDataFrame(geometry=actual_geo, crs=config.default_crs)\n",
    "noisy_cords = [(s['noisy']['longitude'], s['noisy']['latitude']) for s in samples]\n",
    "noisy_geo = [Point(p[0], p[1]) for p in noisy_cords]\n",
    "noisy_geo = GeoDataFrame(geometry=noisy_geo, crs=config.default_crs)\n",
    "fig, ax = plt.subplots(figsize=(16,8))\n",
    "actual_geo.plot(ax=ax, markersize=2, color='red', label='Actual')\n",
    "noisy_geo.plot(ax=ax, markersize=2, color='blue', label='Noisy')\n",
    "# Plot the lines between actual and noisy points\n",
    "for actual, noisy in zip(actual_geo.geometry, noisy_geo.geometry):\n",
    "    ax.plot([actual.x, noisy.x], [actual.y, noisy.y], color='black', linestyle='dashed', linewidth=0.5)\n",
    "cx.add_basemap(ax, crs=config.default_crs)\n",
    "plt.title('Noisy vs Actual Coordinates')\n",
    "ax.set_axis_off()\n",
    "plt.legend()\n",
    "plt.show()\n"
   ],
   "id": "38d924c69609e069",
   "outputs": [],
   "execution_count": null
  },
  {
   "metadata": {},
   "cell_type": "code",
   "source": "",
   "id": "38f3c0eacb5cd10e",
   "outputs": [],
   "execution_count": null
  }
 ],
 "metadata": {
  "kernelspec": {
   "display_name": "Python 3",
   "language": "python",
   "name": "python3"
  },
  "language_info": {
   "codemirror_mode": {
    "name": "ipython",
    "version": 2
   },
   "file_extension": ".py",
   "mimetype": "text/x-python",
   "name": "python",
   "nbconvert_exporter": "python",
   "pygments_lexer": "ipython2",
   "version": "2.7.6"
  }
 },
 "nbformat": 4,
 "nbformat_minor": 5
}
